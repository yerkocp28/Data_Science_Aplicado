{
 "cells": [
  {
   "cell_type": "markdown",
   "metadata": {},
   "source": [
    "# Cluster Sucursales "
   ]
  },
  {
   "cell_type": "markdown",
   "metadata": {},
   "source": [
    "### Importar paquetes y funciones:"
   ]
  },
  {
   "cell_type": "code",
   "execution_count": 361,
   "metadata": {},
   "outputs": [],
   "source": [
    "import matplotlib.pyplot as plt\n",
    "from kneed import KneeLocator\n",
    "from sklearn.datasets import make_blobs\n",
    "from sklearn.cluster import KMeans\n",
    "from sklearn.metrics import silhouette_score\n",
    "from sklearn.preprocessing import StandardScaler\n",
    "from sklearn.cluster import DBSCAN\n",
    "from sklearn.datasets import make_moons\n",
    "from sklearn.metrics import adjusted_rand_score\n",
    "import numpy as np\n",
    "import pandas as pd\n",
    "from matplotlib import pyplot as plt\n",
    "from sklearn.datasets.samples_generator import make_blobs\n",
    "from sklearn.cluster import KMeans\n",
    "import pandas as pd\n",
    "from sklearn import preprocessing \n",
    "from sklearn.cluster import KMeans\n",
    "import matplotlib.pyplot as plt"
   ]
  },
  {
   "cell_type": "markdown",
   "metadata": {},
   "source": [
    "### Leer la base de datos:"
   ]
  },
  {
   "cell_type": "code",
   "execution_count": 362,
   "metadata": {},
   "outputs": [],
   "source": [
    "df = pd.read_excel('C:/Users//.xlsx', sheet_name='clust_PB_2')"
   ]
  },
  {
   "cell_type": "code",
   "execution_count": 363,
   "metadata": {
    "scrolled": false
   },
   "outputs": [
    {
     "data": {
      "text/html": [
       "<div>\n",
       "<style scoped>\n",
       "    .dataframe tbody tr th:only-of-type {\n",
       "        vertical-align: middle;\n",
       "    }\n",
       "\n",
       "    .dataframe tbody tr th {\n",
       "        vertical-align: top;\n",
       "    }\n",
       "\n",
       "    .dataframe thead th {\n",
       "        text-align: right;\n",
       "    }\n",
       "</style>\n",
       "<table border=\"1\" class=\"dataframe\">\n",
       "  <thead>\n",
       "    <tr style=\"text-align: right;\">\n",
       "      <th></th>\n",
       "      <th>SUCURSAL</th>\n",
       "      <th>Cod Sucursal2</th>\n",
       "      <th>Principalidad</th>\n",
       "      <th>SBIF</th>\n",
       "      <th>Riesgo</th>\n",
       "      <th>N Clientes</th>\n",
       "      <th>Promedio</th>\n",
       "      <th>COMISIONES</th>\n",
       "      <th>MARGEN ACTIVOS</th>\n",
       "      <th>MARGEN PASIVOS</th>\n",
       "      <th>VOLUMEN PUNTA</th>\n",
       "    </tr>\n",
       "  </thead>\n",
       "  <tbody>\n",
       "    <tr>\n",
       "      <th>0</th>\n",
       "      <td>MONEDA</td>\n",
       "      <td>2</td>\n",
       "      <td>241.917740</td>\n",
       "      <td>70.654829</td>\n",
       "      <td>0.568929</td>\n",
       "      <td>2720</td>\n",
       "      <td>48.411248</td>\n",
       "      <td>6.912655e+08</td>\n",
       "      <td>3.363777e+09</td>\n",
       "      <td>3.551404e+08</td>\n",
       "      <td>1.690264e+12</td>\n",
       "    </tr>\n",
       "    <tr>\n",
       "      <th>1</th>\n",
       "      <td>VALPARAISO</td>\n",
       "      <td>5</td>\n",
       "      <td>247.251843</td>\n",
       "      <td>52.274558</td>\n",
       "      <td>0.591144</td>\n",
       "      <td>2238</td>\n",
       "      <td>52.917515</td>\n",
       "      <td>5.301941e+08</td>\n",
       "      <td>2.292137e+09</td>\n",
       "      <td>3.017366e+08</td>\n",
       "      <td>1.057006e+12</td>\n",
       "    </tr>\n",
       "    <tr>\n",
       "      <th>2</th>\n",
       "      <td>CONCEPCION</td>\n",
       "      <td>6</td>\n",
       "      <td>248.739597</td>\n",
       "      <td>51.897279</td>\n",
       "      <td>0.619932</td>\n",
       "      <td>3114</td>\n",
       "      <td>60.127741</td>\n",
       "      <td>7.468141e+08</td>\n",
       "      <td>2.809120e+09</td>\n",
       "      <td>4.925571e+08</td>\n",
       "      <td>1.835809e+12</td>\n",
       "    </tr>\n",
       "    <tr>\n",
       "      <th>3</th>\n",
       "      <td>VIÑA DEL MAR</td>\n",
       "      <td>7</td>\n",
       "      <td>250.510453</td>\n",
       "      <td>57.895966</td>\n",
       "      <td>0.580076</td>\n",
       "      <td>4188</td>\n",
       "      <td>69.696102</td>\n",
       "      <td>1.014906e+09</td>\n",
       "      <td>3.944086e+09</td>\n",
       "      <td>6.077975e+08</td>\n",
       "      <td>2.103072e+12</td>\n",
       "    </tr>\n",
       "    <tr>\n",
       "      <th>4</th>\n",
       "      <td>LA DEHESA</td>\n",
       "      <td>9</td>\n",
       "      <td>247.845893</td>\n",
       "      <td>98.104367</td>\n",
       "      <td>0.603419</td>\n",
       "      <td>1729</td>\n",
       "      <td>46.008243</td>\n",
       "      <td>4.747228e+08</td>\n",
       "      <td>1.876761e+09</td>\n",
       "      <td>2.342828e+08</td>\n",
       "      <td>1.130409e+12</td>\n",
       "    </tr>\n",
       "  </tbody>\n",
       "</table>\n",
       "</div>"
      ],
      "text/plain": [
       "       SUCURSAL  Cod Sucursal2  Principalidad       SBIF    Riesgo  \\\n",
       "0        MONEDA              2     241.917740  70.654829  0.568929   \n",
       "1    VALPARAISO              5     247.251843  52.274558  0.591144   \n",
       "2    CONCEPCION              6     248.739597  51.897279  0.619932   \n",
       "3  VIÑA DEL MAR              7     250.510453  57.895966  0.580076   \n",
       "4     LA DEHESA              9     247.845893  98.104367  0.603419   \n",
       "\n",
       "   N Clientes   Promedio    COMISIONES  MARGEN ACTIVOS  MARGEN PASIVOS  \\\n",
       "0        2720  48.411248  6.912655e+08    3.363777e+09    3.551404e+08   \n",
       "1        2238  52.917515  5.301941e+08    2.292137e+09    3.017366e+08   \n",
       "2        3114  60.127741  7.468141e+08    2.809120e+09    4.925571e+08   \n",
       "3        4188  69.696102  1.014906e+09    3.944086e+09    6.077975e+08   \n",
       "4        1729  46.008243  4.747228e+08    1.876761e+09    2.342828e+08   \n",
       "\n",
       "   VOLUMEN PUNTA  \n",
       "0   1.690264e+12  \n",
       "1   1.057006e+12  \n",
       "2   1.835809e+12  \n",
       "3   2.103072e+12  \n",
       "4   1.130409e+12  "
      ]
     },
     "execution_count": 363,
     "metadata": {},
     "output_type": "execute_result"
    }
   ],
   "source": [
    " #%% Se eliminan filas que tengan valor NaN.\n",
    "df = df.dropna()\n",
    "df = df.reset_index(drop=True)\n",
    "df.describe()\n",
    "df.head()"
   ]
  },
  {
   "cell_type": "code",
   "execution_count": 388,
   "metadata": {},
   "outputs": [],
   "source": [
    "df=df.loc[df['SUCURSAL']!='PERSONAL BANK DIGITAL 2']"
   ]
  },
  {
   "cell_type": "code",
   "execution_count": 389,
   "metadata": {
    "scrolled": true
   },
   "outputs": [
    {
     "data": {
      "text/html": [
       "<div>\n",
       "<style scoped>\n",
       "    .dataframe tbody tr th:only-of-type {\n",
       "        vertical-align: middle;\n",
       "    }\n",
       "\n",
       "    .dataframe tbody tr th {\n",
       "        vertical-align: top;\n",
       "    }\n",
       "\n",
       "    .dataframe thead th {\n",
       "        text-align: right;\n",
       "    }\n",
       "</style>\n",
       "<table border=\"1\" class=\"dataframe\">\n",
       "  <thead>\n",
       "    <tr style=\"text-align: right;\">\n",
       "      <th></th>\n",
       "      <th>SUCURSAL</th>\n",
       "      <th>Cod Sucursal2</th>\n",
       "      <th>Principalidad</th>\n",
       "      <th>SBIF</th>\n",
       "      <th>Riesgo</th>\n",
       "      <th>N Clientes</th>\n",
       "      <th>Promedio</th>\n",
       "      <th>COMISIONES</th>\n",
       "      <th>MARGEN ACTIVOS</th>\n",
       "      <th>MARGEN PASIVOS</th>\n",
       "      <th>VOLUMEN PUNTA</th>\n",
       "      <th>label</th>\n",
       "    </tr>\n",
       "  </thead>\n",
       "  <tbody>\n",
       "    <tr>\n",
       "      <th>0</th>\n",
       "      <td>MONEDA</td>\n",
       "      <td>2</td>\n",
       "      <td>241.917740</td>\n",
       "      <td>70.654829</td>\n",
       "      <td>0.568929</td>\n",
       "      <td>2720</td>\n",
       "      <td>48.411248</td>\n",
       "      <td>6.912655e+08</td>\n",
       "      <td>3.363777e+09</td>\n",
       "      <td>3.551404e+08</td>\n",
       "      <td>1.690264e+12</td>\n",
       "      <td>1</td>\n",
       "    </tr>\n",
       "    <tr>\n",
       "      <th>1</th>\n",
       "      <td>VALPARAISO</td>\n",
       "      <td>5</td>\n",
       "      <td>247.251843</td>\n",
       "      <td>52.274558</td>\n",
       "      <td>0.591144</td>\n",
       "      <td>2238</td>\n",
       "      <td>52.917515</td>\n",
       "      <td>5.301941e+08</td>\n",
       "      <td>2.292137e+09</td>\n",
       "      <td>3.017366e+08</td>\n",
       "      <td>1.057006e+12</td>\n",
       "      <td>2</td>\n",
       "    </tr>\n",
       "    <tr>\n",
       "      <th>2</th>\n",
       "      <td>CONCEPCION</td>\n",
       "      <td>6</td>\n",
       "      <td>248.739597</td>\n",
       "      <td>51.897279</td>\n",
       "      <td>0.619932</td>\n",
       "      <td>3114</td>\n",
       "      <td>60.127741</td>\n",
       "      <td>7.468141e+08</td>\n",
       "      <td>2.809120e+09</td>\n",
       "      <td>4.925571e+08</td>\n",
       "      <td>1.835809e+12</td>\n",
       "      <td>1</td>\n",
       "    </tr>\n",
       "    <tr>\n",
       "      <th>3</th>\n",
       "      <td>VIÑA DEL MAR</td>\n",
       "      <td>7</td>\n",
       "      <td>250.510453</td>\n",
       "      <td>57.895966</td>\n",
       "      <td>0.580076</td>\n",
       "      <td>4188</td>\n",
       "      <td>69.696102</td>\n",
       "      <td>1.014906e+09</td>\n",
       "      <td>3.944086e+09</td>\n",
       "      <td>6.077975e+08</td>\n",
       "      <td>2.103072e+12</td>\n",
       "      <td>0</td>\n",
       "    </tr>\n",
       "    <tr>\n",
       "      <th>4</th>\n",
       "      <td>LA DEHESA</td>\n",
       "      <td>9</td>\n",
       "      <td>247.845893</td>\n",
       "      <td>98.104367</td>\n",
       "      <td>0.603419</td>\n",
       "      <td>1729</td>\n",
       "      <td>46.008243</td>\n",
       "      <td>4.747228e+08</td>\n",
       "      <td>1.876761e+09</td>\n",
       "      <td>2.342828e+08</td>\n",
       "      <td>1.130409e+12</td>\n",
       "      <td>1</td>\n",
       "    </tr>\n",
       "    <tr>\n",
       "      <th>5</th>\n",
       "      <td>IV CENTENARIO</td>\n",
       "      <td>14</td>\n",
       "      <td>248.638522</td>\n",
       "      <td>87.509841</td>\n",
       "      <td>0.629147</td>\n",
       "      <td>2470</td>\n",
       "      <td>40.904057</td>\n",
       "      <td>7.343826e+08</td>\n",
       "      <td>2.915984e+09</td>\n",
       "      <td>4.111352e+08</td>\n",
       "      <td>1.942534e+12</td>\n",
       "      <td>0</td>\n",
       "    </tr>\n",
       "    <tr>\n",
       "      <th>6</th>\n",
       "      <td>MANUEL MONTT</td>\n",
       "      <td>23</td>\n",
       "      <td>241.141387</td>\n",
       "      <td>88.371295</td>\n",
       "      <td>0.604129</td>\n",
       "      <td>1664</td>\n",
       "      <td>43.631313</td>\n",
       "      <td>4.200695e+08</td>\n",
       "      <td>1.729389e+09</td>\n",
       "      <td>2.279279e+08</td>\n",
       "      <td>1.039502e+12</td>\n",
       "      <td>2</td>\n",
       "    </tr>\n",
       "    <tr>\n",
       "      <th>7</th>\n",
       "      <td>PEDRO DE VALDIVIA</td>\n",
       "      <td>25</td>\n",
       "      <td>248.231030</td>\n",
       "      <td>75.283629</td>\n",
       "      <td>0.597230</td>\n",
       "      <td>1848</td>\n",
       "      <td>43.592437</td>\n",
       "      <td>4.410546e+08</td>\n",
       "      <td>1.876935e+09</td>\n",
       "      <td>2.123666e+08</td>\n",
       "      <td>1.151214e+12</td>\n",
       "      <td>0</td>\n",
       "    </tr>\n",
       "    <tr>\n",
       "      <th>8</th>\n",
       "      <td>NUEVA YORK</td>\n",
       "      <td>31</td>\n",
       "      <td>242.681917</td>\n",
       "      <td>65.700344</td>\n",
       "      <td>0.590361</td>\n",
       "      <td>2458</td>\n",
       "      <td>40.269997</td>\n",
       "      <td>5.657763e+08</td>\n",
       "      <td>2.664715e+09</td>\n",
       "      <td>3.052007e+08</td>\n",
       "      <td>1.423049e+12</td>\n",
       "      <td>2</td>\n",
       "    </tr>\n",
       "    <tr>\n",
       "      <th>9</th>\n",
       "      <td>LOS COBRES</td>\n",
       "      <td>39</td>\n",
       "      <td>244.873095</td>\n",
       "      <td>82.442190</td>\n",
       "      <td>0.627119</td>\n",
       "      <td>1635</td>\n",
       "      <td>62.356322</td>\n",
       "      <td>4.512685e+08</td>\n",
       "      <td>1.893183e+09</td>\n",
       "      <td>2.202464e+08</td>\n",
       "      <td>1.185249e+12</td>\n",
       "      <td>1</td>\n",
       "    </tr>\n",
       "    <tr>\n",
       "      <th>10</th>\n",
       "      <td>ESTORIL</td>\n",
       "      <td>58</td>\n",
       "      <td>243.487019</td>\n",
       "      <td>102.684742</td>\n",
       "      <td>0.598394</td>\n",
       "      <td>1789</td>\n",
       "      <td>29.198909</td>\n",
       "      <td>4.253171e+08</td>\n",
       "      <td>1.930174e+09</td>\n",
       "      <td>2.136107e+08</td>\n",
       "      <td>1.108090e+12</td>\n",
       "      <td>1</td>\n",
       "    </tr>\n",
       "    <tr>\n",
       "      <th>11</th>\n",
       "      <td>AV BRASIL ANTOFAGASTA</td>\n",
       "      <td>68</td>\n",
       "      <td>248.961415</td>\n",
       "      <td>95.712633</td>\n",
       "      <td>0.541957</td>\n",
       "      <td>2423</td>\n",
       "      <td>24.554531</td>\n",
       "      <td>4.096597e+08</td>\n",
       "      <td>2.168523e+09</td>\n",
       "      <td>2.700713e+08</td>\n",
       "      <td>1.437381e+12</td>\n",
       "      <td>1</td>\n",
       "    </tr>\n",
       "    <tr>\n",
       "      <th>12</th>\n",
       "      <td>IQUIQUE SUR</td>\n",
       "      <td>77</td>\n",
       "      <td>246.213531</td>\n",
       "      <td>80.734177</td>\n",
       "      <td>0.528351</td>\n",
       "      <td>1929</td>\n",
       "      <td>77.204082</td>\n",
       "      <td>4.314148e+08</td>\n",
       "      <td>1.919355e+09</td>\n",
       "      <td>2.276089e+08</td>\n",
       "      <td>1.020548e+12</td>\n",
       "      <td>0</td>\n",
       "    </tr>\n",
       "    <tr>\n",
       "      <th>13</th>\n",
       "      <td>NUEVA COSTANERA</td>\n",
       "      <td>78</td>\n",
       "      <td>251.972360</td>\n",
       "      <td>92.323864</td>\n",
       "      <td>0.585492</td>\n",
       "      <td>1728</td>\n",
       "      <td>32.642390</td>\n",
       "      <td>5.324631e+08</td>\n",
       "      <td>2.019253e+09</td>\n",
       "      <td>2.104883e+08</td>\n",
       "      <td>1.239680e+12</td>\n",
       "      <td>1</td>\n",
       "    </tr>\n",
       "    <tr>\n",
       "      <th>14</th>\n",
       "      <td>MATTA ORIENTE</td>\n",
       "      <td>93</td>\n",
       "      <td>237.896769</td>\n",
       "      <td>85.959321</td>\n",
       "      <td>0.567016</td>\n",
       "      <td>1651</td>\n",
       "      <td>36.785714</td>\n",
       "      <td>3.517203e+08</td>\n",
       "      <td>1.596383e+09</td>\n",
       "      <td>1.765327e+08</td>\n",
       "      <td>9.830692e+11</td>\n",
       "      <td>0</td>\n",
       "    </tr>\n",
       "    <tr>\n",
       "      <th>15</th>\n",
       "      <td>NUEVA PROVIDENCIA</td>\n",
       "      <td>94</td>\n",
       "      <td>247.915067</td>\n",
       "      <td>35.826854</td>\n",
       "      <td>0.542445</td>\n",
       "      <td>2633</td>\n",
       "      <td>51.099291</td>\n",
       "      <td>7.291508e+08</td>\n",
       "      <td>2.959945e+09</td>\n",
       "      <td>3.874651e+08</td>\n",
       "      <td>1.730837e+12</td>\n",
       "      <td>2</td>\n",
       "    </tr>\n",
       "    <tr>\n",
       "      <th>16</th>\n",
       "      <td>LUIS PASTEUR</td>\n",
       "      <td>100</td>\n",
       "      <td>245.969033</td>\n",
       "      <td>110.322802</td>\n",
       "      <td>0.522846</td>\n",
       "      <td>1347</td>\n",
       "      <td>55.964696</td>\n",
       "      <td>4.120556e+08</td>\n",
       "      <td>1.652117e+09</td>\n",
       "      <td>2.121145e+08</td>\n",
       "      <td>1.049349e+12</td>\n",
       "      <td>2</td>\n",
       "    </tr>\n",
       "    <tr>\n",
       "      <th>17</th>\n",
       "      <td>APOQUINDO</td>\n",
       "      <td>113</td>\n",
       "      <td>233.440775</td>\n",
       "      <td>103.039017</td>\n",
       "      <td>0.595181</td>\n",
       "      <td>1577</td>\n",
       "      <td>18.085660</td>\n",
       "      <td>3.931669e+08</td>\n",
       "      <td>1.643985e+09</td>\n",
       "      <td>1.896238e+08</td>\n",
       "      <td>1.068213e+12</td>\n",
       "      <td>0</td>\n",
       "    </tr>\n",
       "    <tr>\n",
       "      <th>18</th>\n",
       "      <td>EL BOSQUE SAN SEBASTIAN</td>\n",
       "      <td>119</td>\n",
       "      <td>242.896798</td>\n",
       "      <td>79.545429</td>\n",
       "      <td>0.587810</td>\n",
       "      <td>2188</td>\n",
       "      <td>32.858066</td>\n",
       "      <td>6.299828e+08</td>\n",
       "      <td>2.531880e+09</td>\n",
       "      <td>3.350578e+08</td>\n",
       "      <td>1.532578e+12</td>\n",
       "      <td>0</td>\n",
       "    </tr>\n",
       "    <tr>\n",
       "      <th>19</th>\n",
       "      <td>LA REINA SUR</td>\n",
       "      <td>120</td>\n",
       "      <td>258.612271</td>\n",
       "      <td>80.655261</td>\n",
       "      <td>0.625819</td>\n",
       "      <td>2153</td>\n",
       "      <td>57.103896</td>\n",
       "      <td>5.585216e+08</td>\n",
       "      <td>2.455531e+09</td>\n",
       "      <td>3.508885e+08</td>\n",
       "      <td>1.500742e+12</td>\n",
       "      <td>2</td>\n",
       "    </tr>\n",
       "    <tr>\n",
       "      <th>20</th>\n",
       "      <td>PERSONAL BANK DIGITAL 1</td>\n",
       "      <td>800</td>\n",
       "      <td>277.679412</td>\n",
       "      <td>102.561219</td>\n",
       "      <td>0.804401</td>\n",
       "      <td>4834</td>\n",
       "      <td>62.153680</td>\n",
       "      <td>9.944516e+08</td>\n",
       "      <td>4.715551e+09</td>\n",
       "      <td>6.119652e+08</td>\n",
       "      <td>2.879253e+12</td>\n",
       "      <td>2</td>\n",
       "    </tr>\n",
       "    <tr>\n",
       "      <th>22</th>\n",
       "      <td>EL GOLF</td>\n",
       "      <td>11</td>\n",
       "      <td>240.000000</td>\n",
       "      <td>124.000000</td>\n",
       "      <td>0.630000</td>\n",
       "      <td>5037</td>\n",
       "      <td>49.050926</td>\n",
       "      <td>1.424663e+09</td>\n",
       "      <td>6.239811e+09</td>\n",
       "      <td>9.679817e+08</td>\n",
       "      <td>4.337885e+12</td>\n",
       "      <td>1</td>\n",
       "    </tr>\n",
       "  </tbody>\n",
       "</table>\n",
       "</div>"
      ],
      "text/plain": [
       "                   SUCURSAL  Cod Sucursal2  Principalidad        SBIF  \\\n",
       "0                    MONEDA              2     241.917740   70.654829   \n",
       "1                VALPARAISO              5     247.251843   52.274558   \n",
       "2                CONCEPCION              6     248.739597   51.897279   \n",
       "3              VIÑA DEL MAR              7     250.510453   57.895966   \n",
       "4                 LA DEHESA              9     247.845893   98.104367   \n",
       "5             IV CENTENARIO             14     248.638522   87.509841   \n",
       "6              MANUEL MONTT             23     241.141387   88.371295   \n",
       "7         PEDRO DE VALDIVIA             25     248.231030   75.283629   \n",
       "8                NUEVA YORK             31     242.681917   65.700344   \n",
       "9                LOS COBRES             39     244.873095   82.442190   \n",
       "10                  ESTORIL             58     243.487019  102.684742   \n",
       "11    AV BRASIL ANTOFAGASTA             68     248.961415   95.712633   \n",
       "12              IQUIQUE SUR             77     246.213531   80.734177   \n",
       "13          NUEVA COSTANERA             78     251.972360   92.323864   \n",
       "14            MATTA ORIENTE             93     237.896769   85.959321   \n",
       "15        NUEVA PROVIDENCIA             94     247.915067   35.826854   \n",
       "16             LUIS PASTEUR            100     245.969033  110.322802   \n",
       "17                APOQUINDO            113     233.440775  103.039017   \n",
       "18  EL BOSQUE SAN SEBASTIAN            119     242.896798   79.545429   \n",
       "19             LA REINA SUR            120     258.612271   80.655261   \n",
       "20  PERSONAL BANK DIGITAL 1            800     277.679412  102.561219   \n",
       "22                  EL GOLF             11     240.000000  124.000000   \n",
       "\n",
       "      Riesgo  N Clientes   Promedio    COMISIONES  MARGEN ACTIVOS  \\\n",
       "0   0.568929        2720  48.411248  6.912655e+08    3.363777e+09   \n",
       "1   0.591144        2238  52.917515  5.301941e+08    2.292137e+09   \n",
       "2   0.619932        3114  60.127741  7.468141e+08    2.809120e+09   \n",
       "3   0.580076        4188  69.696102  1.014906e+09    3.944086e+09   \n",
       "4   0.603419        1729  46.008243  4.747228e+08    1.876761e+09   \n",
       "5   0.629147        2470  40.904057  7.343826e+08    2.915984e+09   \n",
       "6   0.604129        1664  43.631313  4.200695e+08    1.729389e+09   \n",
       "7   0.597230        1848  43.592437  4.410546e+08    1.876935e+09   \n",
       "8   0.590361        2458  40.269997  5.657763e+08    2.664715e+09   \n",
       "9   0.627119        1635  62.356322  4.512685e+08    1.893183e+09   \n",
       "10  0.598394        1789  29.198909  4.253171e+08    1.930174e+09   \n",
       "11  0.541957        2423  24.554531  4.096597e+08    2.168523e+09   \n",
       "12  0.528351        1929  77.204082  4.314148e+08    1.919355e+09   \n",
       "13  0.585492        1728  32.642390  5.324631e+08    2.019253e+09   \n",
       "14  0.567016        1651  36.785714  3.517203e+08    1.596383e+09   \n",
       "15  0.542445        2633  51.099291  7.291508e+08    2.959945e+09   \n",
       "16  0.522846        1347  55.964696  4.120556e+08    1.652117e+09   \n",
       "17  0.595181        1577  18.085660  3.931669e+08    1.643985e+09   \n",
       "18  0.587810        2188  32.858066  6.299828e+08    2.531880e+09   \n",
       "19  0.625819        2153  57.103896  5.585216e+08    2.455531e+09   \n",
       "20  0.804401        4834  62.153680  9.944516e+08    4.715551e+09   \n",
       "22  0.630000        5037  49.050926  1.424663e+09    6.239811e+09   \n",
       "\n",
       "    MARGEN PASIVOS  VOLUMEN PUNTA  label  \n",
       "0     3.551404e+08   1.690264e+12      1  \n",
       "1     3.017366e+08   1.057006e+12      2  \n",
       "2     4.925571e+08   1.835809e+12      1  \n",
       "3     6.077975e+08   2.103072e+12      0  \n",
       "4     2.342828e+08   1.130409e+12      1  \n",
       "5     4.111352e+08   1.942534e+12      0  \n",
       "6     2.279279e+08   1.039502e+12      2  \n",
       "7     2.123666e+08   1.151214e+12      0  \n",
       "8     3.052007e+08   1.423049e+12      2  \n",
       "9     2.202464e+08   1.185249e+12      1  \n",
       "10    2.136107e+08   1.108090e+12      1  \n",
       "11    2.700713e+08   1.437381e+12      1  \n",
       "12    2.276089e+08   1.020548e+12      0  \n",
       "13    2.104883e+08   1.239680e+12      1  \n",
       "14    1.765327e+08   9.830692e+11      0  \n",
       "15    3.874651e+08   1.730837e+12      2  \n",
       "16    2.121145e+08   1.049349e+12      2  \n",
       "17    1.896238e+08   1.068213e+12      0  \n",
       "18    3.350578e+08   1.532578e+12      0  \n",
       "19    3.508885e+08   1.500742e+12      2  \n",
       "20    6.119652e+08   2.879253e+12      2  \n",
       "22    9.679817e+08   4.337885e+12      1  "
      ]
     },
     "execution_count": 389,
     "metadata": {},
     "output_type": "execute_result"
    }
   ],
   "source": [
    "df"
   ]
  },
  {
   "cell_type": "code",
   "execution_count": null,
   "metadata": {},
   "outputs": [],
   "source": [
    "#,\"VOLUMEN PUNTA\",\"Principalidad\",\"SBIF\",\"Riesgo\",\"N Clientes\",\"Promedio\",\"COMISIONES\""
   ]
  },
  {
   "cell_type": "markdown",
   "metadata": {},
   "source": [
    "### Declarar matriz X y el vector y:"
   ]
  },
  {
   "cell_type": "code",
   "execution_count": 419,
   "metadata": {},
   "outputs": [
    {
     "data": {
      "text/plain": [
       "(22, 2)"
      ]
     },
     "execution_count": 419,
     "metadata": {},
     "output_type": "execute_result"
    }
   ],
   "source": [
    "X=np.array(df[['MARGEN ACTIVOS',\"MARGEN PASIVOS\"]])\n",
    "y=np.array(df['SUCURSAL'])\n",
    "X.shape"
   ]
  },
  {
   "cell_type": "code",
   "execution_count": 420,
   "metadata": {},
   "outputs": [
    {
     "data": {
      "text/plain": [
       "(22,)"
      ]
     },
     "execution_count": 420,
     "metadata": {},
     "output_type": "execute_result"
    }
   ],
   "source": [
    "y.shape"
   ]
  },
  {
   "cell_type": "code",
   "execution_count": 421,
   "metadata": {
    "scrolled": true
   },
   "outputs": [
    {
     "data": {
      "text/plain": [
       "array(['MONEDA', 'VALPARAISO', 'CONCEPCION', 'VIÑA DEL MAR', 'LA DEHESA',\n",
       "       'IV CENTENARIO', 'MANUEL MONTT', 'PEDRO DE VALDIVIA', 'NUEVA YORK',\n",
       "       'LOS COBRES', 'ESTORIL', 'AV BRASIL ANTOFAGASTA', 'IQUIQUE SUR',\n",
       "       'NUEVA COSTANERA', 'MATTA ORIENTE', 'NUEVA PROVIDENCIA',\n",
       "       'LUIS PASTEUR', 'APOQUINDO', 'EL BOSQUE SAN SEBASTIAN',\n",
       "       'LA REINA SUR', 'PERSONAL BANK DIGITAL 1', 'EL GOLF'], dtype=object)"
      ]
     },
     "execution_count": 421,
     "metadata": {},
     "output_type": "execute_result"
    }
   ],
   "source": [
    "y"
   ]
  },
  {
   "cell_type": "code",
   "execution_count": 422,
   "metadata": {
    "scrolled": true
   },
   "outputs": [
    {
     "data": {
      "text/plain": [
       "array([[3.36377726e+09, 3.55140418e+08],\n",
       "       [2.29213690e+09, 3.01736595e+08],\n",
       "       [2.80911984e+09, 4.92557065e+08],\n",
       "       [3.94408581e+09, 6.07797482e+08],\n",
       "       [1.87676073e+09, 2.34282762e+08],\n",
       "       [2.91598387e+09, 4.11135186e+08],\n",
       "       [1.72938888e+09, 2.27927858e+08],\n",
       "       [1.87693465e+09, 2.12366578e+08],\n",
       "       [2.66471478e+09, 3.05200651e+08],\n",
       "       [1.89318326e+09, 2.20246355e+08],\n",
       "       [1.93017421e+09, 2.13610707e+08],\n",
       "       [2.16852315e+09, 2.70071333e+08],\n",
       "       [1.91935473e+09, 2.27608914e+08],\n",
       "       [2.01925324e+09, 2.10488257e+08],\n",
       "       [1.59638257e+09, 1.76532690e+08],\n",
       "       [2.95994484e+09, 3.87465069e+08],\n",
       "       [1.65211698e+09, 2.12114450e+08],\n",
       "       [1.64398539e+09, 1.89623781e+08],\n",
       "       [2.53187985e+09, 3.35057817e+08],\n",
       "       [2.45553100e+09, 3.50888489e+08],\n",
       "       [4.71555076e+09, 6.11965226e+08],\n",
       "       [6.23981100e+09, 9.67981745e+08]])"
      ]
     },
     "execution_count": 422,
     "metadata": {},
     "output_type": "execute_result"
    }
   ],
   "source": [
    "X"
   ]
  },
  {
   "cell_type": "markdown",
   "metadata": {},
   "source": [
    "### Normalizacion de la matriz X de atributos:"
   ]
  },
  {
   "cell_type": "code",
   "execution_count": 423,
   "metadata": {},
   "outputs": [],
   "source": [
    "min_max_scaler = preprocessing.MinMaxScaler() \n",
    "df_escalado = min_max_scaler.fit_transform(X)\n",
    "df_escalado = pd.DataFrame(df_escalado)"
   ]
  },
  {
   "cell_type": "code",
   "execution_count": 424,
   "metadata": {},
   "outputs": [],
   "source": [
    "df_escalado = pd.DataFrame(df_escalado)"
   ]
  },
  {
   "cell_type": "code",
   "execution_count": 425,
   "metadata": {},
   "outputs": [
    {
     "data": {
      "text/plain": [
       "<matplotlib.collections.PathCollection at 0x271edcacb20>"
      ]
     },
     "execution_count": 425,
     "metadata": {},
     "output_type": "execute_result"
    },
    {
     "data": {
      "image/png": "[encoded data removed]",
      "text/plain": [
       "<Figure size 432x288 with 1 Axes>"
      ]
     },
     "metadata": {
      "needs_background": "light"
     },
     "output_type": "display_data"
    }
   ],
   "source": [
    "X, y = make_blobs(n_samples=22, centers=3, cluster_std=0.60, random_state=0)\n",
    "plt.scatter(X[:,0], X[:,1])"
   ]
  },
  {
   "cell_type": "code",
   "execution_count": 426,
   "metadata": {
    "scrolled": false
   },
   "outputs": [
    {
     "data": {
      "text/plain": [
       "(array([[ 1.1641107 ,  3.79132988],\n",
       "        [-0.55552381,  4.69595848],\n",
       "        [ 2.97493505,  1.77927892],\n",
       "        [-1.83269532,  2.65503768],\n",
       "        [ 2.57392924,  0.45236465],\n",
       "        [-2.49524272,  2.79023809],\n",
       "        [-2.27858123,  3.38437647],\n",
       "        [ 2.14823598,  1.12456117],\n",
       "        [ 2.08272263,  0.78535335],\n",
       "        [ 1.24258802,  4.50399192],\n",
       "        [ 1.06269622,  5.17635143],\n",
       "        [ 0.91433877,  4.55014643],\n",
       "        [ 1.84652023,  0.99147304],\n",
       "        [-2.55066613,  4.0883475 ],\n",
       "        [ 1.54632313,  4.212973  ],\n",
       "        [ 1.43289271,  4.37679234],\n",
       "        [ 3.4171203 ,  0.02504426],\n",
       "        [ 1.87271752,  4.18069237],\n",
       "        [-2.15603579,  2.0658715 ],\n",
       "        [-1.7593001 ,  2.73650061],\n",
       "        [ 1.52259607, -0.29081422],\n",
       "        [-0.7887296 ,  3.63931017]]),\n",
       " array([0, 0, 1, 2, 1, 2, 2, 1, 1, 0, 0, 0, 1, 2, 0, 0, 1, 0, 2, 2, 1, 2]))"
      ]
     },
     "execution_count": 426,
     "metadata": {},
     "output_type": "execute_result"
    }
   ],
   "source": [
    "X,y"
   ]
  },
  {
   "cell_type": "markdown",
   "metadata": {},
   "source": [
    "### Obtener el N° optimo de Clusters que maximiza la disntancia entre los centroides ( entre clusters) y minimiza \n",
    "### la distancia entre las oficinas del cluster( Intra clusters), N° optimo=3"
   ]
  },
  {
   "cell_type": "code",
   "execution_count": 427,
   "metadata": {
    "scrolled": false
   },
   "outputs": [
    {
     "data": {
      "image/png": "[encoded data removed]",
      "text/plain": [
       "<Figure size 432x288 with 1 Axes>"
      ]
     },
     "metadata": {
      "needs_background": "light"
     },
     "output_type": "display_data"
    }
   ],
   "source": [
    "wcss = []\n",
    "for i in range(1, 11):\n",
    "    kmeans = KMeans(n_clusters=i, init='k-means++', max_iter=300, n_init=10, random_state=0)\n",
    "    kmeans.fit(X)\n",
    "    wcss.append(kmeans.inertia_)\n",
    "plt.plot(range(1, 11), wcss)\n",
    "plt.title('Elbow Method')\n",
    "plt.xlabel('Number of clusters')\n",
    "plt.ylabel('WCSS')\n",
    "plt.show()"
   ]
  },
  {
   "cell_type": "markdown",
   "metadata": {},
   "source": [
    "### Grafico con 3 Clusters previo:"
   ]
  },
  {
   "cell_type": "code",
   "execution_count": 428,
   "metadata": {
    "scrolled": false
   },
   "outputs": [
    {
     "data": {
      "image/png": "[encoded data removed]",
      "text/plain": [
       "<Figure size 432x288 with 1 Axes>"
      ]
     },
     "metadata": {
      "needs_background": "light"
     },
     "output_type": "display_data"
    }
   ],
   "source": [
    "kmeans = KMeans(n_clusters=3, init='k-means++', max_iter=150, n_init=10, random_state=0)\n",
    "pred_y = kmeans.fit_predict(X)\n",
    "plt.scatter(X[:,0], X[:,1])\n",
    "plt.scatter(kmeans.cluster_centers_[:, 0], kmeans.cluster_centers_[:, 1], s=300, c='red')\n",
    "plt.show()"
   ]
  },
  {
   "cell_type": "code",
   "execution_count": 429,
   "metadata": {},
   "outputs": [],
   "source": [
    "kmeans = KMeans(n_clusters = 3, init = 'k-means++', random_state = 42)\n",
    "y_kmeans = kmeans.fit_predict(X)\n"
   ]
  },
  {
   "cell_type": "code",
   "execution_count": 430,
   "metadata": {},
   "outputs": [
    {
     "data": {
      "text/plain": [
       "array([0, 0, 2, 1, 2, 1, 1, 2, 2, 0, 0, 0, 2, 1, 0, 0, 2, 0, 1, 1, 2, 1])"
      ]
     },
     "execution_count": 430,
     "metadata": {},
     "output_type": "execute_result"
    }
   ],
   "source": [
    "y_kmeans"
   ]
  },
  {
   "cell_type": "markdown",
   "metadata": {
    "scrolled": false
   },
   "source": [
    "### N° de oficinas por Clusters :"
   ]
  },
  {
   "cell_type": "code",
   "execution_count": 431,
   "metadata": {
    "scrolled": true
   },
   "outputs": [
    {
     "name": "stdout",
     "output_type": "stream",
     "text": [
      "Counter({0: 8, 2: 7, 1: 7})\n"
     ]
    }
   ],
   "source": [
    "from collections import Counter, defaultdict\n",
    "print(Counter(kmeans.labels_))"
   ]
  },
  {
   "cell_type": "markdown",
   "metadata": {},
   "source": [
    "### Grafico de Clusters normalizados:"
   ]
  },
  {
   "cell_type": "code",
   "execution_count": 432,
   "metadata": {
    "scrolled": true
   },
   "outputs": [
    {
     "data": {
      "image/png": "[encoded data removed]",
      "text/plain": [
       "<Figure size 432x288 with 1 Axes>"
      ]
     },
     "metadata": {
      "needs_background": "light"
     },
     "output_type": "display_data"
    }
   ],
   "source": [
    "# Visualizacion grafica de los clusters\n",
    "plt.scatter(X[y_kmeans == 0, 0], X[y_kmeans == 0, 1], s = 80, c = 'red', label = 'Cluster 1')\n",
    "plt.scatter(X[y_kmeans == 1, 0], X[y_kmeans == 1, 1], s = 80, c = 'blue', label = 'Cluster 2')\n",
    "plt.scatter(X[y_kmeans == 2, 0], X[y_kmeans == 2, 1], s = 80, c = 'green', label = 'Cluster 3')\n",
    "\n",
    "\n",
    "plt.scatter(kmeans.cluster_centers_[:, 0], kmeans.cluster_centers_[:, 1], s = 170, c = 'Black', label = 'Centroids')\n",
    "\n",
    "plt.title('Clusters por Sucursales')\n",
    "plt.xlabel('Eje X normalizado')\n",
    "plt.ylabel('Eje Y normalizado')\n",
    "plt.legend()\n",
    "plt.show()"
   ]
  },
  {
   "cell_type": "markdown",
   "metadata": {},
   "source": [
    "### Centroides:"
   ]
  },
  {
   "cell_type": "code",
   "execution_count": 433,
   "metadata": {
    "scrolled": true
   },
   "outputs": [
    {
     "name": "stdout",
     "output_type": "stream",
     "text": [
      "[[ 1.08501791  4.43602948]\n",
      " [-1.9801787   3.05138315]\n",
      " [ 2.36657993  0.69532302]]\n"
     ]
    }
   ],
   "source": [
    "#%% Aplicación de k-means con k = 3.\n",
    "kmeans = KMeans(n_clusters=3).fit(X)\n",
    "centroids = kmeans.cluster_centers_\n",
    "print(centroids)"
   ]
  },
  {
   "cell_type": "code",
   "execution_count": 434,
   "metadata": {
    "scrolled": true
   },
   "outputs": [
    {
     "data": {
      "text/plain": [
       "KMeans(n_clusters=3)"
      ]
     },
     "execution_count": 434,
     "metadata": {},
     "output_type": "execute_result"
    }
   ],
   "source": [
    "kmeans = KMeans(n_clusters=3).fit(X)\n",
    "kmeans"
   ]
  },
  {
   "cell_type": "markdown",
   "metadata": {},
   "source": [
    "### Etiquetamos nuestro dataframe:"
   ]
  },
  {
   "cell_type": "code",
   "execution_count": 435,
   "metadata": {
    "scrolled": false
   },
   "outputs": [
    {
     "name": "stderr",
     "output_type": "stream",
     "text": [
      "<ipython-input-435-e61ee2e19264>:2: SettingWithCopyWarning: \n",
      "A value is trying to be set on a copy of a slice from a DataFrame.\n",
      "Try using .loc[row_indexer,col_indexer] = value instead\n",
      "\n",
      "See the caveats in the documentation: https://pandas.pydata.org/pandas-docs/stable/user_guide/indexing.html#returning-a-view-versus-a-copy\n",
      "  df['label'] = labels\n"
     ]
    }
   ],
   "source": [
    "labels = kmeans.predict(X)\n",
    "df['label'] = labels"
   ]
  },
  {
   "cell_type": "code",
   "execution_count": 436,
   "metadata": {
    "scrolled": false
   },
   "outputs": [
    {
     "data": {
      "text/html": [
       "<div>\n",
       "<style scoped>\n",
       "    .dataframe tbody tr th:only-of-type {\n",
       "        vertical-align: middle;\n",
       "    }\n",
       "\n",
       "    .dataframe tbody tr th {\n",
       "        vertical-align: top;\n",
       "    }\n",
       "\n",
       "    .dataframe thead th {\n",
       "        text-align: right;\n",
       "    }\n",
       "</style>\n",
       "<table border=\"1\" class=\"dataframe\">\n",
       "  <thead>\n",
       "    <tr style=\"text-align: right;\">\n",
       "      <th></th>\n",
       "      <th>SUCURSAL</th>\n",
       "      <th>Cod Sucursal2</th>\n",
       "      <th>Principalidad</th>\n",
       "      <th>SBIF</th>\n",
       "      <th>Riesgo</th>\n",
       "      <th>N Clientes</th>\n",
       "      <th>Promedio</th>\n",
       "      <th>COMISIONES</th>\n",
       "      <th>MARGEN ACTIVOS</th>\n",
       "      <th>MARGEN PASIVOS</th>\n",
       "      <th>VOLUMEN PUNTA</th>\n",
       "      <th>label</th>\n",
       "    </tr>\n",
       "  </thead>\n",
       "  <tbody>\n",
       "    <tr>\n",
       "      <th>0</th>\n",
       "      <td>MONEDA</td>\n",
       "      <td>2</td>\n",
       "      <td>241.917740</td>\n",
       "      <td>70.654829</td>\n",
       "      <td>0.568929</td>\n",
       "      <td>2720</td>\n",
       "      <td>48.411248</td>\n",
       "      <td>6.912655e+08</td>\n",
       "      <td>3.363777e+09</td>\n",
       "      <td>3.551404e+08</td>\n",
       "      <td>1.690264e+12</td>\n",
       "      <td>0</td>\n",
       "    </tr>\n",
       "    <tr>\n",
       "      <th>1</th>\n",
       "      <td>VALPARAISO</td>\n",
       "      <td>5</td>\n",
       "      <td>247.251843</td>\n",
       "      <td>52.274558</td>\n",
       "      <td>0.591144</td>\n",
       "      <td>2238</td>\n",
       "      <td>52.917515</td>\n",
       "      <td>5.301941e+08</td>\n",
       "      <td>2.292137e+09</td>\n",
       "      <td>3.017366e+08</td>\n",
       "      <td>1.057006e+12</td>\n",
       "      <td>0</td>\n",
       "    </tr>\n",
       "    <tr>\n",
       "      <th>2</th>\n",
       "      <td>CONCEPCION</td>\n",
       "      <td>6</td>\n",
       "      <td>248.739597</td>\n",
       "      <td>51.897279</td>\n",
       "      <td>0.619932</td>\n",
       "      <td>3114</td>\n",
       "      <td>60.127741</td>\n",
       "      <td>7.468141e+08</td>\n",
       "      <td>2.809120e+09</td>\n",
       "      <td>4.925571e+08</td>\n",
       "      <td>1.835809e+12</td>\n",
       "      <td>1</td>\n",
       "    </tr>\n",
       "    <tr>\n",
       "      <th>3</th>\n",
       "      <td>VIÑA DEL MAR</td>\n",
       "      <td>7</td>\n",
       "      <td>250.510453</td>\n",
       "      <td>57.895966</td>\n",
       "      <td>0.580076</td>\n",
       "      <td>4188</td>\n",
       "      <td>69.696102</td>\n",
       "      <td>1.014906e+09</td>\n",
       "      <td>3.944086e+09</td>\n",
       "      <td>6.077975e+08</td>\n",
       "      <td>2.103072e+12</td>\n",
       "      <td>2</td>\n",
       "    </tr>\n",
       "    <tr>\n",
       "      <th>4</th>\n",
       "      <td>LA DEHESA</td>\n",
       "      <td>9</td>\n",
       "      <td>247.845893</td>\n",
       "      <td>98.104367</td>\n",
       "      <td>0.603419</td>\n",
       "      <td>1729</td>\n",
       "      <td>46.008243</td>\n",
       "      <td>4.747228e+08</td>\n",
       "      <td>1.876761e+09</td>\n",
       "      <td>2.342828e+08</td>\n",
       "      <td>1.130409e+12</td>\n",
       "      <td>1</td>\n",
       "    </tr>\n",
       "    <tr>\n",
       "      <th>5</th>\n",
       "      <td>IV CENTENARIO</td>\n",
       "      <td>14</td>\n",
       "      <td>248.638522</td>\n",
       "      <td>87.509841</td>\n",
       "      <td>0.629147</td>\n",
       "      <td>2470</td>\n",
       "      <td>40.904057</td>\n",
       "      <td>7.343826e+08</td>\n",
       "      <td>2.915984e+09</td>\n",
       "      <td>4.111352e+08</td>\n",
       "      <td>1.942534e+12</td>\n",
       "      <td>2</td>\n",
       "    </tr>\n",
       "    <tr>\n",
       "      <th>6</th>\n",
       "      <td>MANUEL MONTT</td>\n",
       "      <td>23</td>\n",
       "      <td>241.141387</td>\n",
       "      <td>88.371295</td>\n",
       "      <td>0.604129</td>\n",
       "      <td>1664</td>\n",
       "      <td>43.631313</td>\n",
       "      <td>4.200695e+08</td>\n",
       "      <td>1.729389e+09</td>\n",
       "      <td>2.279279e+08</td>\n",
       "      <td>1.039502e+12</td>\n",
       "      <td>2</td>\n",
       "    </tr>\n",
       "    <tr>\n",
       "      <th>7</th>\n",
       "      <td>PEDRO DE VALDIVIA</td>\n",
       "      <td>25</td>\n",
       "      <td>248.231030</td>\n",
       "      <td>75.283629</td>\n",
       "      <td>0.597230</td>\n",
       "      <td>1848</td>\n",
       "      <td>43.592437</td>\n",
       "      <td>4.410546e+08</td>\n",
       "      <td>1.876935e+09</td>\n",
       "      <td>2.123666e+08</td>\n",
       "      <td>1.151214e+12</td>\n",
       "      <td>1</td>\n",
       "    </tr>\n",
       "    <tr>\n",
       "      <th>8</th>\n",
       "      <td>NUEVA YORK</td>\n",
       "      <td>31</td>\n",
       "      <td>242.681917</td>\n",
       "      <td>65.700344</td>\n",
       "      <td>0.590361</td>\n",
       "      <td>2458</td>\n",
       "      <td>40.269997</td>\n",
       "      <td>5.657763e+08</td>\n",
       "      <td>2.664715e+09</td>\n",
       "      <td>3.052007e+08</td>\n",
       "      <td>1.423049e+12</td>\n",
       "      <td>1</td>\n",
       "    </tr>\n",
       "    <tr>\n",
       "      <th>9</th>\n",
       "      <td>LOS COBRES</td>\n",
       "      <td>39</td>\n",
       "      <td>244.873095</td>\n",
       "      <td>82.442190</td>\n",
       "      <td>0.627119</td>\n",
       "      <td>1635</td>\n",
       "      <td>62.356322</td>\n",
       "      <td>4.512685e+08</td>\n",
       "      <td>1.893183e+09</td>\n",
       "      <td>2.202464e+08</td>\n",
       "      <td>1.185249e+12</td>\n",
       "      <td>0</td>\n",
       "    </tr>\n",
       "    <tr>\n",
       "      <th>10</th>\n",
       "      <td>ESTORIL</td>\n",
       "      <td>58</td>\n",
       "      <td>243.487019</td>\n",
       "      <td>102.684742</td>\n",
       "      <td>0.598394</td>\n",
       "      <td>1789</td>\n",
       "      <td>29.198909</td>\n",
       "      <td>4.253171e+08</td>\n",
       "      <td>1.930174e+09</td>\n",
       "      <td>2.136107e+08</td>\n",
       "      <td>1.108090e+12</td>\n",
       "      <td>0</td>\n",
       "    </tr>\n",
       "    <tr>\n",
       "      <th>11</th>\n",
       "      <td>AV BRASIL ANTOFAGASTA</td>\n",
       "      <td>68</td>\n",
       "      <td>248.961415</td>\n",
       "      <td>95.712633</td>\n",
       "      <td>0.541957</td>\n",
       "      <td>2423</td>\n",
       "      <td>24.554531</td>\n",
       "      <td>4.096597e+08</td>\n",
       "      <td>2.168523e+09</td>\n",
       "      <td>2.700713e+08</td>\n",
       "      <td>1.437381e+12</td>\n",
       "      <td>0</td>\n",
       "    </tr>\n",
       "    <tr>\n",
       "      <th>12</th>\n",
       "      <td>IQUIQUE SUR</td>\n",
       "      <td>77</td>\n",
       "      <td>246.213531</td>\n",
       "      <td>80.734177</td>\n",
       "      <td>0.528351</td>\n",
       "      <td>1929</td>\n",
       "      <td>77.204082</td>\n",
       "      <td>4.314148e+08</td>\n",
       "      <td>1.919355e+09</td>\n",
       "      <td>2.276089e+08</td>\n",
       "      <td>1.020548e+12</td>\n",
       "      <td>1</td>\n",
       "    </tr>\n",
       "    <tr>\n",
       "      <th>13</th>\n",
       "      <td>NUEVA COSTANERA</td>\n",
       "      <td>78</td>\n",
       "      <td>251.972360</td>\n",
       "      <td>92.323864</td>\n",
       "      <td>0.585492</td>\n",
       "      <td>1728</td>\n",
       "      <td>32.642390</td>\n",
       "      <td>5.324631e+08</td>\n",
       "      <td>2.019253e+09</td>\n",
       "      <td>2.104883e+08</td>\n",
       "      <td>1.239680e+12</td>\n",
       "      <td>2</td>\n",
       "    </tr>\n",
       "    <tr>\n",
       "      <th>14</th>\n",
       "      <td>MATTA ORIENTE</td>\n",
       "      <td>93</td>\n",
       "      <td>237.896769</td>\n",
       "      <td>85.959321</td>\n",
       "      <td>0.567016</td>\n",
       "      <td>1651</td>\n",
       "      <td>36.785714</td>\n",
       "      <td>3.517203e+08</td>\n",
       "      <td>1.596383e+09</td>\n",
       "      <td>1.765327e+08</td>\n",
       "      <td>9.830692e+11</td>\n",
       "      <td>0</td>\n",
       "    </tr>\n",
       "    <tr>\n",
       "      <th>15</th>\n",
       "      <td>NUEVA PROVIDENCIA</td>\n",
       "      <td>94</td>\n",
       "      <td>247.915067</td>\n",
       "      <td>35.826854</td>\n",
       "      <td>0.542445</td>\n",
       "      <td>2633</td>\n",
       "      <td>51.099291</td>\n",
       "      <td>7.291508e+08</td>\n",
       "      <td>2.959945e+09</td>\n",
       "      <td>3.874651e+08</td>\n",
       "      <td>1.730837e+12</td>\n",
       "      <td>0</td>\n",
       "    </tr>\n",
       "    <tr>\n",
       "      <th>16</th>\n",
       "      <td>LUIS PASTEUR</td>\n",
       "      <td>100</td>\n",
       "      <td>245.969033</td>\n",
       "      <td>110.322802</td>\n",
       "      <td>0.522846</td>\n",
       "      <td>1347</td>\n",
       "      <td>55.964696</td>\n",
       "      <td>4.120556e+08</td>\n",
       "      <td>1.652117e+09</td>\n",
       "      <td>2.121145e+08</td>\n",
       "      <td>1.049349e+12</td>\n",
       "      <td>1</td>\n",
       "    </tr>\n",
       "    <tr>\n",
       "      <th>17</th>\n",
       "      <td>APOQUINDO</td>\n",
       "      <td>113</td>\n",
       "      <td>233.440775</td>\n",
       "      <td>103.039017</td>\n",
       "      <td>0.595181</td>\n",
       "      <td>1577</td>\n",
       "      <td>18.085660</td>\n",
       "      <td>3.931669e+08</td>\n",
       "      <td>1.643985e+09</td>\n",
       "      <td>1.896238e+08</td>\n",
       "      <td>1.068213e+12</td>\n",
       "      <td>0</td>\n",
       "    </tr>\n",
       "    <tr>\n",
       "      <th>18</th>\n",
       "      <td>EL BOSQUE SAN SEBASTIAN</td>\n",
       "      <td>119</td>\n",
       "      <td>242.896798</td>\n",
       "      <td>79.545429</td>\n",
       "      <td>0.587810</td>\n",
       "      <td>2188</td>\n",
       "      <td>32.858066</td>\n",
       "      <td>6.299828e+08</td>\n",
       "      <td>2.531880e+09</td>\n",
       "      <td>3.350578e+08</td>\n",
       "      <td>1.532578e+12</td>\n",
       "      <td>2</td>\n",
       "    </tr>\n",
       "    <tr>\n",
       "      <th>19</th>\n",
       "      <td>LA REINA SUR</td>\n",
       "      <td>120</td>\n",
       "      <td>258.612271</td>\n",
       "      <td>80.655261</td>\n",
       "      <td>0.625819</td>\n",
       "      <td>2153</td>\n",
       "      <td>57.103896</td>\n",
       "      <td>5.585216e+08</td>\n",
       "      <td>2.455531e+09</td>\n",
       "      <td>3.508885e+08</td>\n",
       "      <td>1.500742e+12</td>\n",
       "      <td>2</td>\n",
       "    </tr>\n",
       "    <tr>\n",
       "      <th>20</th>\n",
       "      <td>PERSONAL BANK DIGITAL 1</td>\n",
       "      <td>800</td>\n",
       "      <td>277.679412</td>\n",
       "      <td>102.561219</td>\n",
       "      <td>0.804401</td>\n",
       "      <td>4834</td>\n",
       "      <td>62.153680</td>\n",
       "      <td>9.944516e+08</td>\n",
       "      <td>4.715551e+09</td>\n",
       "      <td>6.119652e+08</td>\n",
       "      <td>2.879253e+12</td>\n",
       "      <td>1</td>\n",
       "    </tr>\n",
       "    <tr>\n",
       "      <th>22</th>\n",
       "      <td>EL GOLF</td>\n",
       "      <td>11</td>\n",
       "      <td>240.000000</td>\n",
       "      <td>124.000000</td>\n",
       "      <td>0.630000</td>\n",
       "      <td>5037</td>\n",
       "      <td>49.050926</td>\n",
       "      <td>1.424663e+09</td>\n",
       "      <td>6.239811e+09</td>\n",
       "      <td>9.679817e+08</td>\n",
       "      <td>4.337885e+12</td>\n",
       "      <td>2</td>\n",
       "    </tr>\n",
       "  </tbody>\n",
       "</table>\n",
       "</div>"
      ],
      "text/plain": [
       "                   SUCURSAL  Cod Sucursal2  Principalidad        SBIF  \\\n",
       "0                    MONEDA              2     241.917740   70.654829   \n",
       "1                VALPARAISO              5     247.251843   52.274558   \n",
       "2                CONCEPCION              6     248.739597   51.897279   \n",
       "3              VIÑA DEL MAR              7     250.510453   57.895966   \n",
       "4                 LA DEHESA              9     247.845893   98.104367   \n",
       "5             IV CENTENARIO             14     248.638522   87.509841   \n",
       "6              MANUEL MONTT             23     241.141387   88.371295   \n",
       "7         PEDRO DE VALDIVIA             25     248.231030   75.283629   \n",
       "8                NUEVA YORK             31     242.681917   65.700344   \n",
       "9                LOS COBRES             39     244.873095   82.442190   \n",
       "10                  ESTORIL             58     243.487019  102.684742   \n",
       "11    AV BRASIL ANTOFAGASTA             68     248.961415   95.712633   \n",
       "12              IQUIQUE SUR             77     246.213531   80.734177   \n",
       "13          NUEVA COSTANERA             78     251.972360   92.323864   \n",
       "14            MATTA ORIENTE             93     237.896769   85.959321   \n",
       "15        NUEVA PROVIDENCIA             94     247.915067   35.826854   \n",
       "16             LUIS PASTEUR            100     245.969033  110.322802   \n",
       "17                APOQUINDO            113     233.440775  103.039017   \n",
       "18  EL BOSQUE SAN SEBASTIAN            119     242.896798   79.545429   \n",
       "19             LA REINA SUR            120     258.612271   80.655261   \n",
       "20  PERSONAL BANK DIGITAL 1            800     277.679412  102.561219   \n",
       "22                  EL GOLF             11     240.000000  124.000000   \n",
       "\n",
       "      Riesgo  N Clientes   Promedio    COMISIONES  MARGEN ACTIVOS  \\\n",
       "0   0.568929        2720  48.411248  6.912655e+08    3.363777e+09   \n",
       "1   0.591144        2238  52.917515  5.301941e+08    2.292137e+09   \n",
       "2   0.619932        3114  60.127741  7.468141e+08    2.809120e+09   \n",
       "3   0.580076        4188  69.696102  1.014906e+09    3.944086e+09   \n",
       "4   0.603419        1729  46.008243  4.747228e+08    1.876761e+09   \n",
       "5   0.629147        2470  40.904057  7.343826e+08    2.915984e+09   \n",
       "6   0.604129        1664  43.631313  4.200695e+08    1.729389e+09   \n",
       "7   0.597230        1848  43.592437  4.410546e+08    1.876935e+09   \n",
       "8   0.590361        2458  40.269997  5.657763e+08    2.664715e+09   \n",
       "9   0.627119        1635  62.356322  4.512685e+08    1.893183e+09   \n",
       "10  0.598394        1789  29.198909  4.253171e+08    1.930174e+09   \n",
       "11  0.541957        2423  24.554531  4.096597e+08    2.168523e+09   \n",
       "12  0.528351        1929  77.204082  4.314148e+08    1.919355e+09   \n",
       "13  0.585492        1728  32.642390  5.324631e+08    2.019253e+09   \n",
       "14  0.567016        1651  36.785714  3.517203e+08    1.596383e+09   \n",
       "15  0.542445        2633  51.099291  7.291508e+08    2.959945e+09   \n",
       "16  0.522846        1347  55.964696  4.120556e+08    1.652117e+09   \n",
       "17  0.595181        1577  18.085660  3.931669e+08    1.643985e+09   \n",
       "18  0.587810        2188  32.858066  6.299828e+08    2.531880e+09   \n",
       "19  0.625819        2153  57.103896  5.585216e+08    2.455531e+09   \n",
       "20  0.804401        4834  62.153680  9.944516e+08    4.715551e+09   \n",
       "22  0.630000        5037  49.050926  1.424663e+09    6.239811e+09   \n",
       "\n",
       "    MARGEN PASIVOS  VOLUMEN PUNTA  label  \n",
       "0     3.551404e+08   1.690264e+12      0  \n",
       "1     3.017366e+08   1.057006e+12      0  \n",
       "2     4.925571e+08   1.835809e+12      1  \n",
       "3     6.077975e+08   2.103072e+12      2  \n",
       "4     2.342828e+08   1.130409e+12      1  \n",
       "5     4.111352e+08   1.942534e+12      2  \n",
       "6     2.279279e+08   1.039502e+12      2  \n",
       "7     2.123666e+08   1.151214e+12      1  \n",
       "8     3.052007e+08   1.423049e+12      1  \n",
       "9     2.202464e+08   1.185249e+12      0  \n",
       "10    2.136107e+08   1.108090e+12      0  \n",
       "11    2.700713e+08   1.437381e+12      0  \n",
       "12    2.276089e+08   1.020548e+12      1  \n",
       "13    2.104883e+08   1.239680e+12      2  \n",
       "14    1.765327e+08   9.830692e+11      0  \n",
       "15    3.874651e+08   1.730837e+12      0  \n",
       "16    2.121145e+08   1.049349e+12      1  \n",
       "17    1.896238e+08   1.068213e+12      0  \n",
       "18    3.350578e+08   1.532578e+12      2  \n",
       "19    3.508885e+08   1.500742e+12      2  \n",
       "20    6.119652e+08   2.879253e+12      1  \n",
       "22    9.679817e+08   4.337885e+12      2  "
      ]
     },
     "execution_count": 436,
     "metadata": {},
     "output_type": "execute_result"
    }
   ],
   "source": [
    "df"
   ]
  },
  {
   "cell_type": "code",
   "execution_count": 384,
   "metadata": {},
   "outputs": [],
   "source": [
    "#df.to_excel('C:/Users/CYCP4370/clust_PB_2_etiquetados.xlsx') "
   ]
  },
  {
   "cell_type": "code",
   "execution_count": 437,
   "metadata": {},
   "outputs": [
    {
     "name": "stdout",
     "output_type": "stream",
     "text": [
      "<class 'pandas.core.frame.DataFrame'>\n",
      "Int64Index: 22 entries, 0 to 22\n",
      "Data columns (total 12 columns):\n",
      " #   Column          Non-Null Count  Dtype  \n",
      "---  ------          --------------  -----  \n",
      " 0   SUCURSAL        22 non-null     object \n",
      " 1   Cod Sucursal2   22 non-null     int64  \n",
      " 2   Principalidad   22 non-null     float64\n",
      " 3   SBIF            22 non-null     float64\n",
      " 4   Riesgo          22 non-null     float64\n",
      " 5   N Clientes      22 non-null     int64  \n",
      " 6   Promedio        22 non-null     float64\n",
      " 7   COMISIONES      22 non-null     float64\n",
      " 8   MARGEN ACTIVOS  22 non-null     float64\n",
      " 9   MARGEN PASIVOS  22 non-null     float64\n",
      " 10  VOLUMEN PUNTA   22 non-null     float64\n",
      " 11  label           22 non-null     int32  \n",
      "dtypes: float64(8), int32(1), int64(2), object(1)\n",
      "memory usage: 2.1+ KB\n"
     ]
    }
   ],
   "source": [
    "df.info()"
   ]
  },
  {
   "cell_type": "code",
   "execution_count": 438,
   "metadata": {},
   "outputs": [],
   "source": [
    "X=df.iloc[:, [2,3,4,5,6,7,8,9,10,11]]"
   ]
  },
  {
   "cell_type": "code",
   "execution_count": 439,
   "metadata": {},
   "outputs": [],
   "source": [
    "y=df.iloc[:, [11]]"
   ]
  },
  {
   "cell_type": "code",
   "execution_count": 440,
   "metadata": {},
   "outputs": [
    {
     "data": {
      "text/html": [
       "<div>\n",
       "<style scoped>\n",
       "    .dataframe tbody tr th:only-of-type {\n",
       "        vertical-align: middle;\n",
       "    }\n",
       "\n",
       "    .dataframe tbody tr th {\n",
       "        vertical-align: top;\n",
       "    }\n",
       "\n",
       "    .dataframe thead th {\n",
       "        text-align: right;\n",
       "    }\n",
       "</style>\n",
       "<table border=\"1\" class=\"dataframe\">\n",
       "  <thead>\n",
       "    <tr style=\"text-align: right;\">\n",
       "      <th></th>\n",
       "      <th>label</th>\n",
       "    </tr>\n",
       "  </thead>\n",
       "  <tbody>\n",
       "    <tr>\n",
       "      <th>0</th>\n",
       "      <td>0</td>\n",
       "    </tr>\n",
       "    <tr>\n",
       "      <th>1</th>\n",
       "      <td>0</td>\n",
       "    </tr>\n",
       "    <tr>\n",
       "      <th>2</th>\n",
       "      <td>1</td>\n",
       "    </tr>\n",
       "    <tr>\n",
       "      <th>3</th>\n",
       "      <td>2</td>\n",
       "    </tr>\n",
       "    <tr>\n",
       "      <th>4</th>\n",
       "      <td>1</td>\n",
       "    </tr>\n",
       "    <tr>\n",
       "      <th>5</th>\n",
       "      <td>2</td>\n",
       "    </tr>\n",
       "    <tr>\n",
       "      <th>6</th>\n",
       "      <td>2</td>\n",
       "    </tr>\n",
       "    <tr>\n",
       "      <th>7</th>\n",
       "      <td>1</td>\n",
       "    </tr>\n",
       "    <tr>\n",
       "      <th>8</th>\n",
       "      <td>1</td>\n",
       "    </tr>\n",
       "    <tr>\n",
       "      <th>9</th>\n",
       "      <td>0</td>\n",
       "    </tr>\n",
       "    <tr>\n",
       "      <th>10</th>\n",
       "      <td>0</td>\n",
       "    </tr>\n",
       "    <tr>\n",
       "      <th>11</th>\n",
       "      <td>0</td>\n",
       "    </tr>\n",
       "    <tr>\n",
       "      <th>12</th>\n",
       "      <td>1</td>\n",
       "    </tr>\n",
       "    <tr>\n",
       "      <th>13</th>\n",
       "      <td>2</td>\n",
       "    </tr>\n",
       "    <tr>\n",
       "      <th>14</th>\n",
       "      <td>0</td>\n",
       "    </tr>\n",
       "    <tr>\n",
       "      <th>15</th>\n",
       "      <td>0</td>\n",
       "    </tr>\n",
       "    <tr>\n",
       "      <th>16</th>\n",
       "      <td>1</td>\n",
       "    </tr>\n",
       "    <tr>\n",
       "      <th>17</th>\n",
       "      <td>0</td>\n",
       "    </tr>\n",
       "    <tr>\n",
       "      <th>18</th>\n",
       "      <td>2</td>\n",
       "    </tr>\n",
       "    <tr>\n",
       "      <th>19</th>\n",
       "      <td>2</td>\n",
       "    </tr>\n",
       "    <tr>\n",
       "      <th>20</th>\n",
       "      <td>1</td>\n",
       "    </tr>\n",
       "    <tr>\n",
       "      <th>22</th>\n",
       "      <td>2</td>\n",
       "    </tr>\n",
       "  </tbody>\n",
       "</table>\n",
       "</div>"
      ],
      "text/plain": [
       "    label\n",
       "0       0\n",
       "1       0\n",
       "2       1\n",
       "3       2\n",
       "4       1\n",
       "5       2\n",
       "6       2\n",
       "7       1\n",
       "8       1\n",
       "9       0\n",
       "10      0\n",
       "11      0\n",
       "12      1\n",
       "13      2\n",
       "14      0\n",
       "15      0\n",
       "16      1\n",
       "17      0\n",
       "18      2\n",
       "19      2\n",
       "20      1\n",
       "22      2"
      ]
     },
     "execution_count": 440,
     "metadata": {},
     "output_type": "execute_result"
    }
   ],
   "source": [
    "y"
   ]
  },
  {
   "cell_type": "code",
   "execution_count": 441,
   "metadata": {},
   "outputs": [],
   "source": [
    "from sklearn.model_selection import train_test_split\n",
    "\n",
    "X_train, X_test, y_train, y_test = train_test_split(X, y, test_size = 0.25,\n",
    "                                                  stratify = X['label'], random_state = 1234)"
   ]
  },
  {
   "cell_type": "code",
   "execution_count": 442,
   "metadata": {},
   "outputs": [
    {
     "name": "stderr",
     "output_type": "stream",
     "text": [
      "C:\\Users\\CYCP4370\\Anaconda3\\lib\\site-packages\\sklearn\\utils\\validation.py:73: DataConversionWarning: A column-vector y was passed when a 1d array was expected. Please change the shape of y to (n_samples, ), for example using ravel().\n",
      "  return f(**kwargs)\n"
     ]
    },
    {
     "data": {
      "text/plain": [
       "0.6666666666666666"
      ]
     },
     "execution_count": 442,
     "metadata": {},
     "output_type": "execute_result"
    }
   ],
   "source": [
    "#################### Logistica Simple #############\n",
    "from sklearn import feature_selection\n",
    "from sklearn import linear_model\n",
    "model = linear_model.LogisticRegression()\n",
    "model.fit(X_train,y_train)\n",
    "predictions = model.predict(X_test)\n",
    "model.score(X_test,y_test)"
   ]
  },
  {
   "cell_type": "code",
   "execution_count": null,
   "metadata": {},
   "outputs": [],
   "source": []
  }
 ],
 "metadata": {
  "kernelspec": {
   "display_name": "Python 3.7.6 ('base')",
   "language": "python",
   "name": "python3"
  },
  "language_info": {
   "codemirror_mode": {
    "name": "ipython",
    "version": 3
   },
   "file_extension": ".py",
   "mimetype": "text/x-python",
   "name": "python",
   "nbconvert_exporter": "python",
   "pygments_lexer": "ipython3",
   "version": "3.7.6"
  },
  "vscode": {
   "interpreter": {
    "hash": "4e7dd255e53a4bcfecaa995793207dbbc55935f77bf4567d867f2317bf32ab4e"
   }
  }
 },
 "nbformat": 4,
 "nbformat_minor": 4
}
