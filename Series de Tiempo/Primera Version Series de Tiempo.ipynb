{
 "cells": [
  {
   "attachments": {},
   "cell_type": "markdown",
   "metadata": {},
   "source": [
    "## Proyecto de portafolio de Series de Tiempo"
   ]
  },
  {
   "attachments": {},
   "cell_type": "markdown",
   "metadata": {},
   "source": [
    "- Analisis Descriptivo de una serie temporal\n",
    "- Descomposicion de una Serie\n",
    "- Modelos para series Univariantes\n",
    "- Modelos para series Multivariantes\n",
    "- Modelos para series Financieras\n"
   ]
  },
  {
   "attachments": {},
   "cell_type": "markdown",
   "metadata": {},
   "source": [
    "### Importar datos:"
   ]
  },
  {
   "cell_type": "code",
   "execution_count": 1,
   "metadata": {},
   "outputs": [
    {
     "name": "stdout",
     "output_type": "stream",
     "text": [
      "{'copyright': 'Johan Bogaerts', 'date': '2022-08-15', 'explanation': 'The North America nebula on the sky can do what the North America continent on Earth cannot -- form stars.  Specifically, in analogy to the Earth-confined continent, the bright part that appears as Central America and Mexico is actually a hot bed of gas, dust, and newly formed stars known as the Cygnus Wall.  The featured image shows the star forming wall lit and eroded by bright young stars, and partly hidden by the dark dust they have created.  The part of the North America nebula (NGC 7000) shown spans about 15 light years and lies about 1,500 light years away toward the constellation of the Swan (Cygnus).', 'hdurl': 'https://apod.nasa.gov/apod/image/2208/CygnusWall_Bogaerts_4143.jpg', 'media_type': 'image', 'service_version': 'v1', 'title': 'The Cygnus Wall of Star Formation', 'url': 'https://apod.nasa.gov/apod/image/2208/CygnusWall_Bogaerts_960.jpg'}\n",
      "https://apod.nasa.gov/apod/image/2208/CygnusWall_Bogaerts_960.jpg\n"
     ]
    },
    {
     "data": {
      "text/plain": [
       "True"
      ]
     },
     "execution_count": 1,
     "metadata": {},
     "output_type": "execute_result"
    }
   ],
   "source": [
    "#https://api.nasa.gov/\n",
    "\n",
    "#Importamos las librerías\n",
    "import requests\n",
    "import json\n",
    "import webbrowser\n",
    "\n",
    "#Solicitamos la respuesta\n",
    "req = requests.get('https://api.nasa.gov/planetary/apod?api_key=DEMO_KEY')\n",
    "\n",
    "#Transformamos la respuesta en Json\n",
    "data = json.loads(req.text)\n",
    "print(data)\n",
    "\n",
    "url = data['url']\n",
    "print(url)\n",
    "\n",
    "#Abrimos la foto en un browser\n",
    "webbrowser.open(url)\n",
    "\n",
    "\n"
   ]
  },
  {
   "attachments": {},
   "cell_type": "markdown",
   "metadata": {},
   "source": [
    "### Definir formartos:"
   ]
  },
  {
   "attachments": {},
   "cell_type": "markdown",
   "metadata": {},
   "source": [
    "### importar"
   ]
  },
  {
   "attachments": {},
   "cell_type": "markdown",
   "metadata": {},
   "source": [
    "#### Descomponer Serie:"
   ]
  },
  {
   "cell_type": "markdown",
   "metadata": {},
   "source": []
  },
  {
   "cell_type": "markdown",
   "metadata": {},
   "source": []
  },
  {
   "cell_type": "markdown",
   "metadata": {},
   "source": []
  }
 ],
 "metadata": {
  "kernelspec": {
   "display_name": "Python 3",
   "language": "python",
   "name": "python3"
  },
  "language_info": {
   "codemirror_mode": {
    "name": "ipython",
    "version": 3
   },
   "file_extension": ".py",
   "mimetype": "text/x-python",
   "name": "python",
   "nbconvert_exporter": "python",
   "pygments_lexer": "ipython3",
   "version": "3.7.6"
  }
 },
 "nbformat": 4,
 "nbformat_minor": 4
}
